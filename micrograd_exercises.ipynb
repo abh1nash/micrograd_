{
  "nbformat": 4,
  "nbformat_minor": 0,
  "metadata": {
    "colab": {
      "provenance": []
    },
    "kernelspec": {
      "name": "python3",
      "display_name": "Python 3"
    },
    "language_info": {
      "name": "python"
    }
  },
  "cells": [
    {
      "cell_type": "markdown",
      "source": [
        "# micrograd exercises\n",
        "\n",
        "1. watch the [micrograd video](https://www.youtube.com/watch?v=VMj-3S1tku0) on YouTube\n",
        "2. come back and complete these exercises to level up :)"
      ],
      "metadata": {
        "id": "JnGHatCI51JP"
      }
    },
    {
      "cell_type": "markdown",
      "source": [
        "## section 1: derivatives"
      ],
      "metadata": {
        "id": "OFt6NKOz6iBZ"
      }
    },
    {
      "cell_type": "code",
      "source": [
        "# here is a mathematical expression that takes 3 inputs and produces one output\n",
        "from math import sin, cos\n",
        "\n",
        "def f(a, b, c):\n",
        "  return -a**3 + sin(3*b) - 1.0/c + b**2.5 - a**0.5\n",
        "\n",
        "print(f(2, 3, 4))"
      ],
      "metadata": {
        "id": "3Jx9fCXl5xHd",
        "colab": {
          "base_uri": "https://localhost:8080/"
        },
        "outputId": "78ed6aea-c77d-4787-d79b-c2e5624cbe88"
      },
      "execution_count": 2,
      "outputs": [
        {
          "output_type": "stream",
          "name": "stdout",
          "text": [
            "6.336362190988558\n"
          ]
        }
      ]
    },
    {
      "cell_type": "code",
      "source": [
        "# write the function df that returns the analytical gradient of f\n",
        "# i.e. use your skills from calculus to take the derivative, then implement the formula\n",
        "# if you do not calculus then feel free to ask wolframalpha, e.g.:\n",
        "# https://www.wolframalpha.com/input?i=d%2Fda%28sin%283*a%29%29%29\n",
        "\n",
        "def gradf(a, b, c):\n",
        "  a_h = -3 * a**2 - 1 / (2 * a**(1/2))\n",
        "  b_h = 3 * cos(3 * b) + (5/2) * b**(3/2)\n",
        "  c_h = 1/(c**2)\n",
        "  return [a_h, b_h, c_h] # todo, return [df/da, df/db, df/dc]\n",
        "\n",
        "# expected answer is the list of\n",
        "ans = [-12.353553390593273, 10.25699027111255, 0.0625]\n",
        "yours = gradf(2, 3, 4)\n",
        "for dim in range(3):\n",
        "  ok = 'OK' if abs(yours[dim] - ans[dim]) < 1e-5 else 'WRONG!'\n",
        "  print(f\"{ok} for dim {dim}: expected {ans[dim]}, yours returns {yours[dim]}\")\n"
      ],
      "metadata": {
        "id": "qXaH59eL9zxf",
        "colab": {
          "base_uri": "https://localhost:8080/"
        },
        "outputId": "a1f4d320-fff5-43f0-c2b9-72c05fcec6da"
      },
      "execution_count": 3,
      "outputs": [
        {
          "output_type": "stream",
          "name": "stdout",
          "text": [
            "OK for dim 0: expected -12.353553390593273, yours returns -12.353553390593273\n",
            "OK for dim 1: expected 10.25699027111255, yours returns 10.25699027111255\n",
            "OK for dim 2: expected 0.0625, yours returns 0.0625\n"
          ]
        }
      ]
    },
    {
      "cell_type": "code",
      "source": [
        "# now estimate the gradient numerically without any calculus, using\n",
        "# the approximation we used in the video.\n",
        "# you should not call the function df from the last cell\n",
        "\n",
        "# -----------\n",
        "numerical_grad = [0, 0, 0] # TODO\n",
        "# -----------\n",
        "\n",
        "delta = 1e-10\n",
        "\n",
        "a, b, c = 2, 3, 4\n",
        "\n",
        "y = f(a, b, c)\n",
        "\n",
        "y_a = f(a + delta, b, c)\n",
        "y_b = f(a, b + delta, c)\n",
        "y_c = f(a, b, c + delta)\n",
        "\n",
        "numerical_grad[0] = (y_a - y) / delta\n",
        "numerical_grad[1] = (y_b - y) / delta\n",
        "numerical_grad[2] = (y_c - y) / delta\n",
        "\n",
        "for dim in range(3):\n",
        "  ok = 'OK' if abs(numerical_grad[dim] - ans[dim]) < 1e-5 else 'WRONG!'\n",
        "  print(f\"{ok} for dim {dim}: expected {ans[dim]}, yours returns {numerical_grad[dim]}\")\n"
      ],
      "metadata": {
        "id": "_27n-KTA9Qla",
        "colab": {
          "base_uri": "https://localhost:8080/"
        },
        "outputId": "e70744ea-cb19-4375-e963-3667fe356693"
      },
      "execution_count": 4,
      "outputs": [
        {
          "output_type": "stream",
          "name": "stdout",
          "text": [
            "OK for dim 0: expected -12.353553390593273, yours returns -12.35355817641448\n",
            "OK for dim 1: expected 10.25699027111255, yours returns 10.256986371359744\n",
            "OK for dim 2: expected 0.0625, yours returns 0.06250111539429781\n"
          ]
        }
      ]
    },
    {
      "cell_type": "code",
      "source": [
        "# there is an alternative formula that provides a much better numerical\n",
        "# approximation to the derivative of a function.\n",
        "# learn about it here: https://en.wikipedia.org/wiki/Symmetric_derivative\n",
        "# implement it. confirm that for the same step size h this version gives a\n",
        "# better approximation.\n",
        "\n",
        "# -----------\n",
        "numerical_grad2 = [0, 0, 0] # TODO\n",
        "# -----------\n",
        "\n",
        "numerical_grad2[0] = (f(a + delta, b, c) - f(a - delta, b, c)) / (2 * delta)\n",
        "numerical_grad2[1] = (f(a, b + delta, c) - f(a, b - delta, c)) / (2 * delta)\n",
        "numerical_grad2[2] = (f(a, b, c + delta) - f(a, b, c - delta)) / (2 * delta)\n",
        "\n",
        "for dim in range(3):\n",
        "  ok = 'OK' if abs(numerical_grad2[dim] - ans[dim]) < 1e-5 else 'WRONG!'\n",
        "  print(f\"{ok} for dim {dim}: expected {ans[dim]}, yours returns {numerical_grad2[dim]}\")\n"
      ],
      "metadata": {
        "id": "BUqsGb5o_h2P",
        "colab": {
          "base_uri": "https://localhost:8080/"
        },
        "outputId": "63d2e004-a194-4370-d720-ace5e9ba2a43"
      },
      "execution_count": 5,
      "outputs": [
        {
          "output_type": "stream",
          "name": "stdout",
          "text": [
            "OK for dim 0: expected -12.353553390593273, yours returns -12.353553735522382\n",
            "OK for dim 1: expected 10.25699027111255, yours returns 10.256990812251843\n",
            "OK for dim 2: expected 0.0625, yours returns 0.06250111539429781\n"
          ]
        }
      ]
    },
    {
      "cell_type": "markdown",
      "source": [
        "## section 2: support for softmax"
      ],
      "metadata": {
        "id": "tklF9s_4AtlI"
      }
    },
    {
      "cell_type": "code",
      "source": [
        "# Value class starter code, with many functions taken out\n",
        "from math import exp, log\n",
        "\n",
        "class Value:\n",
        "\n",
        "  def __init__(self, data, _children=(), _op='', label=''):\n",
        "    self.data = data\n",
        "    self.grad = 0.0\n",
        "    self._backward = lambda: None\n",
        "    self._prev = set(_children)\n",
        "    self._op = _op\n",
        "    self.label = label\n",
        "\n",
        "  def __repr__(self):\n",
        "    return f\"Value(data={self.data})\"\n",
        "\n",
        "  def __add__(self, other): # exactly as in the video\n",
        "    other = other if isinstance(other, Value) else Value(other)\n",
        "    out = Value(self.data + other.data, (self, other), '+')\n",
        "\n",
        "    def _backward():\n",
        "      self.grad += 1.0 * out.grad\n",
        "      other.grad += 1.0 * out.grad\n",
        "    out._backward = _backward\n",
        "\n",
        "    return out\n",
        "\n",
        "  # ------\n",
        "  # re-implement all the other functions needed for the exercises below\n",
        "  # your code here\n",
        "  # TODO\n",
        "  # ------\n",
        "  def __radd__(self, other):\n",
        "    return self.__add__(other)\n",
        "\n",
        "  def __neg__(self):\n",
        "    out = Value(-self.data, (self, ), 'neg')\n",
        "    def _backward():\n",
        "      self.grad += -1.0 * out.grad\n",
        "    out._backward = _backward\n",
        "    return out\n",
        "\n",
        "  def __truediv__(self, other):\n",
        "    other = other if isinstance(other, Value) else Value(other)\n",
        "    out = Value(self.data / other.data, (self, other), '/')\n",
        "\n",
        "    def _backward():\n",
        "      self.grad += out.grad * (1/other.data)\n",
        "      other.grad += out.grad * (-self.data / other.data**2)\n",
        "\n",
        "    out._backward = _backward\n",
        "\n",
        "    return out\n",
        "\n",
        "  def exp(self):\n",
        "    out = Value(exp(self.data), (self, ), 'exp')\n",
        "\n",
        "    def _backward():\n",
        "      self.grad += exp(self.data) * out.grad\n",
        "\n",
        "    out._backward = _backward\n",
        "    return out\n",
        "\n",
        "  def log(self):\n",
        "    out = Value(log(self.data), (self, ), 'log')\n",
        "\n",
        "    def _backward():\n",
        "      self.grad += (1 / self.data) *  out.grad\n",
        "\n",
        "    out._backward = _backward\n",
        "    return out\n",
        "\n",
        "  def backward(self): # exactly as in video\n",
        "    topo = []\n",
        "    visited = set()\n",
        "    def build_topo(v):\n",
        "      if v not in visited:\n",
        "        visited.add(v)\n",
        "        for child in v._prev:\n",
        "          build_topo(child)\n",
        "        topo.append(v)\n",
        "    build_topo(self)\n",
        "\n",
        "    self.grad = 1.0\n",
        "    for node in reversed(topo):\n",
        "      node._backward()"
      ],
      "metadata": {
        "id": "nAPe_RVrCTeO"
      },
      "execution_count": 6,
      "outputs": []
    },
    {
      "cell_type": "code",
      "source": [
        "# without referencing our code/video __too__ much, make this cell work\n",
        "# you'll have to implement (in some cases re-implemented) a number of functions\n",
        "# of the Value object, similar to what we've seen in the video.\n",
        "# instead of the squared error loss this implements the negative log likelihood\n",
        "# loss, which is very often used in classification.\n",
        "\n",
        "# this is the softmax function\n",
        "# https://en.wikipedia.org/wiki/Softmax_function\n",
        "def softmax(logits):\n",
        "  counts = [logit.exp() for logit in logits]\n",
        "  denominator = sum(counts)\n",
        "  out = [c / denominator for c in counts]\n",
        "  return out\n",
        "\n",
        "# this is the negative log likelihood loss function, pervasive in classification\n",
        "logits = [Value(0.0), Value(3.0), Value(-2.0), Value(1.0)]\n",
        "probs = softmax(logits)\n",
        "loss = -probs[3].log() # dim 3 acts as the label for this input example\n",
        "loss.backward()\n",
        "print(loss.data)\n",
        "\n",
        "ans = [0.041772570515350445, 0.8390245074625319, 0.005653302662216329, -0.8864503806400986]\n",
        "for dim in range(4):\n",
        "  ok = 'OK' if abs(logits[dim].grad - ans[dim]) < 1e-5 else 'WRONG!'\n",
        "  print(f\"{ok} for dim {dim}: expected {ans[dim]}, yours returns {logits[dim].grad}\")\n"
      ],
      "metadata": {
        "id": "VgWvwVQNAvnI",
        "colab": {
          "base_uri": "https://localhost:8080/"
        },
        "outputId": "076b746e-d711-4a09-96b2-6f4d4d97eedc"
      },
      "execution_count": 7,
      "outputs": [
        {
          "output_type": "stream",
          "name": "stdout",
          "text": [
            "2.1755153626167147\n",
            "OK for dim 0: expected 0.041772570515350445, yours returns 0.041772570515350445\n",
            "OK for dim 1: expected 0.8390245074625319, yours returns 0.8390245074625319\n",
            "OK for dim 2: expected 0.005653302662216329, yours returns 0.005653302662216329\n",
            "OK for dim 3: expected -0.8864503806400986, yours returns -0.886450380640099\n"
          ]
        }
      ]
    },
    {
      "cell_type": "code",
      "source": [
        "# verify the gradient using the torch library\n",
        "# torch should give you the exact same gradient\n",
        "import torch\n",
        "\n",
        "torch_logits = [torch.tensor(v.data, requires_grad=True) for v in logits]\n",
        "torch_probs = softmax(torch_logits)\n",
        "torch_loss = -torch_probs[3].log()\n",
        "torch_loss.backward()\n",
        "print(torch_loss)\n",
        "\n",
        "ans = [0.041772570515350445, 0.8390245074625319, 0.005653302662216329, -0.8864503806400986]\n",
        "for dim in range(4):\n",
        "  ok = 'OK' if abs(torch_logits[dim].grad - ans[dim]) < 1e-5 else 'WRONG!'\n",
        "  print(f\"{ok} for dim {dim}: expected {ans[dim]}, yours returns {torch_logits[dim].grad}\")"
      ],
      "metadata": {
        "id": "q7ca1SVAGG1S",
        "colab": {
          "base_uri": "https://localhost:8080/"
        },
        "outputId": "c956ce3b-f685-41d8-bc1f-2d02a8751e51"
      },
      "execution_count": 8,
      "outputs": [
        {
          "output_type": "stream",
          "name": "stdout",
          "text": [
            "tensor(2.1755, grad_fn=<NegBackward0>)\n",
            "OK for dim 0: expected 0.041772570515350445, yours returns 0.041772566735744476\n",
            "OK for dim 1: expected 0.8390245074625319, yours returns 0.8390244245529175\n",
            "OK for dim 2: expected 0.005653302662216329, yours returns 0.005653302185237408\n",
            "OK for dim 3: expected -0.8864503806400986, yours returns -0.8864503502845764\n"
          ]
        }
      ]
    },
    {
      "cell_type": "code",
      "source": [],
      "metadata": {
        "id": "WgBRv3yBGf4Z"
      },
      "execution_count": 8,
      "outputs": []
    }
  ]
}